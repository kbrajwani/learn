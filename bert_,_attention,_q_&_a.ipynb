{
  "nbformat": 4,
  "nbformat_minor": 0,
  "metadata": {
    "colab": {
      "name": "bert , attention, q & a.ipynb",
      "provenance": [],
      "collapsed_sections": [
        "_BKJy_vx0U52"
      ]
    },
    "kernelspec": {
      "name": "python3",
      "display_name": "Python 3"
    },
    "accelerator": "GPU"
  },
  "cells": [
    {
      "cell_type": "markdown",
      "metadata": {
        "id": "_BKJy_vx0U52",
        "colab_type": "text"
      },
      "source": [
        "# bert"
      ]
    },
    {
      "cell_type": "code",
      "metadata": {
        "id": "KFFpa18z-XHi",
        "colab_type": "code",
        "colab": {}
      },
      "source": [
        "!wget https://storage.googleapis.com/bert_models/2018_11_23/multi_cased_L-12_H-768_A-12.zip"
      ],
      "execution_count": 0,
      "outputs": []
    },
    {
      "cell_type": "code",
      "metadata": {
        "id": "IsNjoN3w-XGF",
        "colab_type": "code",
        "colab": {}
      },
      "source": [
        "!unzip multi_cased_L-12_H-768_A-12.zip"
      ],
      "execution_count": 0,
      "outputs": []
    },
    {
      "cell_type": "code",
      "metadata": {
        "id": "By3V-4eY_Ox9",
        "colab_type": "code",
        "colab": {}
      },
      "source": [
        "import pandas"
      ],
      "execution_count": 0,
      "outputs": []
    },
    {
      "cell_type": "code",
      "metadata": {
        "id": "5ABAyw7dBM2k",
        "colab_type": "code",
        "colab": {}
      },
      "source": [
        "df = pandas.read_csv('/content/drive/My Drive/amazon.csv')"
      ],
      "execution_count": 0,
      "outputs": []
    },
    {
      "cell_type": "code",
      "metadata": {
        "id": "GCic-08pBWiH",
        "colab_type": "code",
        "colab": {}
      },
      "source": [
        "df =df[['label','text']]"
      ],
      "execution_count": 0,
      "outputs": []
    },
    {
      "cell_type": "code",
      "metadata": {
        "id": "89jFlqama0BK",
        "colab_type": "code",
        "colab": {}
      },
      "source": [
        "max_seq_length = 220"
      ],
      "execution_count": 0,
      "outputs": []
    },
    {
      "cell_type": "code",
      "metadata": {
        "id": "DiTssBTzBooX",
        "colab_type": "code",
        "colab": {}
      },
      "source": [
        "from sklearn.model_selection import train_test_split\n",
        "train, test = train_test_split(df, test_size=0.2)"
      ],
      "execution_count": 0,
      "outputs": []
    },
    {
      "cell_type": "code",
      "metadata": {
        "id": "wFtmagu6DPPA",
        "colab_type": "code",
        "colab": {}
      },
      "source": [
        "test.to_csv(\"data_test.csv\",header=False,index=False)"
      ],
      "execution_count": 0,
      "outputs": []
    },
    {
      "cell_type": "code",
      "metadata": {
        "id": "dNGRRls_DPMq",
        "colab_type": "code",
        "colab": {}
      },
      "source": [
        "train.to_csv(\"data.csv\",header=False,index=False)"
      ],
      "execution_count": 0,
      "outputs": []
    },
    {
      "cell_type": "code",
      "metadata": {
        "id": "08pDEFY2gfCu",
        "colab_type": "code",
        "colab": {}
      },
      "source": [
        "pip install bert-for-tf2"
      ],
      "execution_count": 0,
      "outputs": []
    },
    {
      "cell_type": "code",
      "metadata": {
        "id": "Ny4WVHfu5DIp",
        "colab_type": "code",
        "outputId": "f0772e2e-d116-4ade-b66c-a550a1114dea",
        "colab": {
          "base_uri": "https://localhost:8080/",
          "height": 122
        }
      },
      "source": [
        "pip install sentencepiece"
      ],
      "execution_count": 0,
      "outputs": [
        {
          "output_type": "stream",
          "text": [
            "Collecting sentencepiece\n",
            "\u001b[?25l  Downloading https://files.pythonhosted.org/packages/74/f4/2d5214cbf13d06e7cb2c20d84115ca25b53ea76fa1f0ade0e3c9749de214/sentencepiece-0.1.85-cp36-cp36m-manylinux1_x86_64.whl (1.0MB)\n",
            "\r\u001b[K     |▎                               | 10kB 25.3MB/s eta 0:00:01\r\u001b[K     |▋                               | 20kB 6.3MB/s eta 0:00:01\r\u001b[K     |█                               | 30kB 8.4MB/s eta 0:00:01\r\u001b[K     |█▎                              | 40kB 5.9MB/s eta 0:00:01\r\u001b[K     |█▋                              | 51kB 7.1MB/s eta 0:00:01\r\u001b[K     |██                              | 61kB 8.4MB/s eta 0:00:01\r\u001b[K     |██▏                             | 71kB 9.5MB/s eta 0:00:01\r\u001b[K     |██▌                             | 81kB 10.6MB/s eta 0:00:01\r\u001b[K     |██▉                             | 92kB 11.6MB/s eta 0:00:01\r\u001b[K     |███▏                            | 102kB 9.4MB/s eta 0:00:01\r\u001b[K     |███▌                            | 112kB 9.4MB/s eta 0:00:01\r\u001b[K     |███▉                            | 122kB 9.4MB/s eta 0:00:01\r\u001b[K     |████                            | 133kB 9.4MB/s eta 0:00:01\r\u001b[K     |████▍                           | 143kB 9.4MB/s eta 0:00:01\r\u001b[K     |████▊                           | 153kB 9.4MB/s eta 0:00:01\r\u001b[K     |█████                           | 163kB 9.4MB/s eta 0:00:01\r\u001b[K     |█████▍                          | 174kB 9.4MB/s eta 0:00:01\r\u001b[K     |█████▊                          | 184kB 9.4MB/s eta 0:00:01\r\u001b[K     |██████                          | 194kB 9.4MB/s eta 0:00:01\r\u001b[K     |██████▎                         | 204kB 9.4MB/s eta 0:00:01\r\u001b[K     |██████▋                         | 215kB 9.4MB/s eta 0:00:01\r\u001b[K     |███████                         | 225kB 9.4MB/s eta 0:00:01\r\u001b[K     |███████▎                        | 235kB 9.4MB/s eta 0:00:01\r\u001b[K     |███████▋                        | 245kB 9.4MB/s eta 0:00:01\r\u001b[K     |███████▉                        | 256kB 9.4MB/s eta 0:00:01\r\u001b[K     |████████▏                       | 266kB 9.4MB/s eta 0:00:01\r\u001b[K     |████████▌                       | 276kB 9.4MB/s eta 0:00:01\r\u001b[K     |████████▉                       | 286kB 9.4MB/s eta 0:00:01\r\u001b[K     |█████████▏                      | 296kB 9.4MB/s eta 0:00:01\r\u001b[K     |█████████▌                      | 307kB 9.4MB/s eta 0:00:01\r\u001b[K     |█████████▊                      | 317kB 9.4MB/s eta 0:00:01\r\u001b[K     |██████████                      | 327kB 9.4MB/s eta 0:00:01\r\u001b[K     |██████████▍                     | 337kB 9.4MB/s eta 0:00:01\r\u001b[K     |██████████▊                     | 348kB 9.4MB/s eta 0:00:01\r\u001b[K     |███████████                     | 358kB 9.4MB/s eta 0:00:01\r\u001b[K     |███████████▍                    | 368kB 9.4MB/s eta 0:00:01\r\u001b[K     |███████████▋                    | 378kB 9.4MB/s eta 0:00:01\r\u001b[K     |████████████                    | 389kB 9.4MB/s eta 0:00:01\r\u001b[K     |████████████▎                   | 399kB 9.4MB/s eta 0:00:01\r\u001b[K     |████████████▋                   | 409kB 9.4MB/s eta 0:00:01\r\u001b[K     |█████████████                   | 419kB 9.4MB/s eta 0:00:01\r\u001b[K     |█████████████▎                  | 430kB 9.4MB/s eta 0:00:01\r\u001b[K     |█████████████▌                  | 440kB 9.4MB/s eta 0:00:01\r\u001b[K     |█████████████▉                  | 450kB 9.4MB/s eta 0:00:01\r\u001b[K     |██████████████▏                 | 460kB 9.4MB/s eta 0:00:01\r\u001b[K     |██████████████▌                 | 471kB 9.4MB/s eta 0:00:01\r\u001b[K     |██████████████▉                 | 481kB 9.4MB/s eta 0:00:01\r\u001b[K     |███████████████▏                | 491kB 9.4MB/s eta 0:00:01\r\u001b[K     |███████████████▍                | 501kB 9.4MB/s eta 0:00:01\r\u001b[K     |███████████████▊                | 512kB 9.4MB/s eta 0:00:01\r\u001b[K     |████████████████                | 522kB 9.4MB/s eta 0:00:01\r\u001b[K     |████████████████▍               | 532kB 9.4MB/s eta 0:00:01\r\u001b[K     |████████████████▊               | 542kB 9.4MB/s eta 0:00:01\r\u001b[K     |█████████████████               | 552kB 9.4MB/s eta 0:00:01\r\u001b[K     |█████████████████▎              | 563kB 9.4MB/s eta 0:00:01\r\u001b[K     |█████████████████▋              | 573kB 9.4MB/s eta 0:00:01\r\u001b[K     |██████████████████              | 583kB 9.4MB/s eta 0:00:01\r\u001b[K     |██████████████████▎             | 593kB 9.4MB/s eta 0:00:01\r\u001b[K     |██████████████████▋             | 604kB 9.4MB/s eta 0:00:01\r\u001b[K     |███████████████████             | 614kB 9.4MB/s eta 0:00:01\r\u001b[K     |███████████████████▏            | 624kB 9.4MB/s eta 0:00:01\r\u001b[K     |███████████████████▌            | 634kB 9.4MB/s eta 0:00:01\r\u001b[K     |███████████████████▉            | 645kB 9.4MB/s eta 0:00:01\r\u001b[K     |████████████████████▏           | 655kB 9.4MB/s eta 0:00:01\r\u001b[K     |████████████████████▌           | 665kB 9.4MB/s eta 0:00:01\r\u001b[K     |████████████████████▉           | 675kB 9.4MB/s eta 0:00:01\r\u001b[K     |█████████████████████▏          | 686kB 9.4MB/s eta 0:00:01\r\u001b[K     |█████████████████████▍          | 696kB 9.4MB/s eta 0:00:01\r\u001b[K     |█████████████████████▊          | 706kB 9.4MB/s eta 0:00:01\r\u001b[K     |██████████████████████          | 716kB 9.4MB/s eta 0:00:01\r\u001b[K     |██████████████████████▍         | 727kB 9.4MB/s eta 0:00:01\r\u001b[K     |██████████████████████▊         | 737kB 9.4MB/s eta 0:00:01\r\u001b[K     |███████████████████████         | 747kB 9.4MB/s eta 0:00:01\r\u001b[K     |███████████████████████▎        | 757kB 9.4MB/s eta 0:00:01\r\u001b[K     |███████████████████████▋        | 768kB 9.4MB/s eta 0:00:01\r\u001b[K     |████████████████████████        | 778kB 9.4MB/s eta 0:00:01\r\u001b[K     |████████████████████████▎       | 788kB 9.4MB/s eta 0:00:01\r\u001b[K     |████████████████████████▋       | 798kB 9.4MB/s eta 0:00:01\r\u001b[K     |█████████████████████████       | 808kB 9.4MB/s eta 0:00:01\r\u001b[K     |█████████████████████████▏      | 819kB 9.4MB/s eta 0:00:01\r\u001b[K     |█████████████████████████▌      | 829kB 9.4MB/s eta 0:00:01\r\u001b[K     |█████████████████████████▉      | 839kB 9.4MB/s eta 0:00:01\r\u001b[K     |██████████████████████████▏     | 849kB 9.4MB/s eta 0:00:01\r\u001b[K     |██████████████████████████▌     | 860kB 9.4MB/s eta 0:00:01\r\u001b[K     |██████████████████████████▉     | 870kB 9.4MB/s eta 0:00:01\r\u001b[K     |███████████████████████████     | 880kB 9.4MB/s eta 0:00:01\r\u001b[K     |███████████████████████████▍    | 890kB 9.4MB/s eta 0:00:01\r\u001b[K     |███████████████████████████▊    | 901kB 9.4MB/s eta 0:00:01\r\u001b[K     |████████████████████████████    | 911kB 9.4MB/s eta 0:00:01\r\u001b[K     |████████████████████████████▍   | 921kB 9.4MB/s eta 0:00:01\r\u001b[K     |████████████████████████████▊   | 931kB 9.4MB/s eta 0:00:01\r\u001b[K     |█████████████████████████████   | 942kB 9.4MB/s eta 0:00:01\r\u001b[K     |█████████████████████████████▎  | 952kB 9.4MB/s eta 0:00:01\r\u001b[K     |█████████████████████████████▋  | 962kB 9.4MB/s eta 0:00:01\r\u001b[K     |██████████████████████████████  | 972kB 9.4MB/s eta 0:00:01\r\u001b[K     |██████████████████████████████▎ | 983kB 9.4MB/s eta 0:00:01\r\u001b[K     |██████████████████████████████▋ | 993kB 9.4MB/s eta 0:00:01\r\u001b[K     |██████████████████████████████▉ | 1.0MB 9.4MB/s eta 0:00:01\r\u001b[K     |███████████████████████████████▏| 1.0MB 9.4MB/s eta 0:00:01\r\u001b[K     |███████████████████████████████▌| 1.0MB 9.4MB/s eta 0:00:01\r\u001b[K     |███████████████████████████████▉| 1.0MB 9.4MB/s eta 0:00:01\r\u001b[K     |████████████████████████████████| 1.0MB 9.4MB/s \n",
            "\u001b[?25hInstalling collected packages: sentencepiece\n",
            "Successfully installed sentencepiece-0.1.85\n"
          ],
          "name": "stdout"
        }
      ]
    },
    {
      "cell_type": "code",
      "metadata": {
        "id": "7atuuqCxpgRb",
        "colab_type": "code",
        "colab": {}
      },
      "source": [
        "import bert\n",
        "import os\n",
        "\n",
        "def createTokenizer():\n",
        "    currentDir = '/content/'\n",
        "    modelsFolder = os.path.join(currentDir, \"multi_cased_L-12_H-768_A-12\")\n",
        "    vocab_file = os.path.join(modelsFolder, \"vocab.txt\")\n",
        "\n",
        "    tokenizer =bert.bert_tokenization.FullTokenizer(vocab_file, do_lower_case=True)\n",
        "    return tokenizer\n",
        "\n",
        "tokenizer = createTokenizer()"
      ],
      "execution_count": 0,
      "outputs": []
    },
    {
      "cell_type": "code",
      "metadata": {
        "id": "-A6jyHPYpovx",
        "colab_type": "code",
        "colab": {}
      },
      "source": [
        "import csv\n",
        "import os\n",
        "import random\n",
        "import numpy as np\n",
        "classes = 2\n",
        "\n",
        "fileName = os.path.join('/content/',\"data.csv\")\n",
        "fileTestName = os.path.join('/content/', \"data_test.csv\")\n",
        "\n",
        "data = []\n",
        "data_test = []\n",
        "train_set = []\n",
        "train_labels = []\n",
        "test_set = []\n",
        "test_labels = []\n",
        "\n",
        "with open(fileName, encoding='utf-8') as csvFile:\n",
        "    csv_reader = csv.reader(csvFile, delimiter=\",\")\n",
        "    line_count = 0\n",
        "    for row in csv_reader:\n",
        "        if line_count > 0:\n",
        "            data.append(row) \n",
        "        line_count +=1\n",
        "csvFile.close()\n",
        "\n",
        "with open(fileTestName, encoding='utf-8') as csvFileTest:\n",
        "    csv_reader_test = csv.reader(csvFileTest, delimiter=\",\")\n",
        "    line_count = 0\n",
        "    for row in csv_reader_test:\n",
        "        if line_count > 0:\n",
        "            data_test.append(row)\n",
        "        line_count +=1\n",
        "csvFileTest.close()\n",
        "\n",
        "shuffled_set = random.sample(data, len(data))\n",
        "training_set = shuffled_set[0:]\n",
        "shuffled_set_test = random.sample(data_test, len(data_test))\n",
        "testing_set = shuffled_set_test[0:]\n",
        "\n",
        "for el in training_set:\n",
        "    train_set.append(el[1])\n",
        "    zeros = [0] * classes\n",
        "    zeros[int(el[0]) - 1] = 1\n",
        "    train_labels.append(zeros)\n",
        "\n",
        "for el in testing_set:\n",
        "    test_set.append(el[1])\n",
        "    zeros = [0] * classes\n",
        "    zeros[int(el[0]) - 1] = 1\n",
        "    test_labels.append(zeros)\n",
        "\n",
        "\n"
      ],
      "execution_count": 0,
      "outputs": []
    },
    {
      "cell_type": "code",
      "metadata": {
        "id": "pMkR2rTscyxr",
        "colab_type": "code",
        "colab": {}
      },
      "source": [
        "train_tokens = map(tokenizer.tokenize, train_set)\n",
        "train_tokens = map(lambda tok: [\"[CLS]\"] + tok + [\"[SEP]\"], train_tokens)\n",
        "train_token_ids = list(map(tokenizer.convert_tokens_to_ids, train_tokens))"
      ],
      "execution_count": 0,
      "outputs": []
    },
    {
      "cell_type": "code",
      "metadata": {
        "id": "Y-lAFrBsc72h",
        "colab_type": "code",
        "colab": {}
      },
      "source": [
        "train_token_ids = map(lambda tids: tids + [0] * (max_seq_length - len(tids)), train_token_ids)\n",
        "train_token_ids = np.array(list(train_token_ids))"
      ],
      "execution_count": 0,
      "outputs": []
    },
    {
      "cell_type": "code",
      "metadata": {
        "id": "AtgV9A_6cqtX",
        "colab_type": "code",
        "colab": {}
      },
      "source": [
        "test_tokens = map(tokenizer.tokenize, test_set)\n",
        "test_tokens = map(lambda tok: [\"[CLS]\"] + tok + [\"[SEP]\"], test_tokens)\n",
        "test_token_ids = list(map(tokenizer.convert_tokens_to_ids, test_tokens))\n",
        "\n",
        "test_token_ids = map(lambda tids: tids + [0] * (max_seq_length - len(tids)), test_token_ids)\n",
        "test_token_ids = np.array(list(test_token_ids))\n",
        "\n",
        "train_labels_final = np.array(train_labels)\n",
        "test_labels_final = np.array(test_labels)\n",
        "\n",
        "\n",
        "train_set, train_labels, test_set, test_labels = train_token_ids, train_labels_final, test_token_ids, test_labels_final"
      ],
      "execution_count": 0,
      "outputs": []
    },
    {
      "cell_type": "code",
      "metadata": {
        "id": "9yvIroS3ekns",
        "colab_type": "code",
        "colab": {}
      },
      "source": [
        "modelBertDir = '/content'"
      ],
      "execution_count": 0,
      "outputs": []
    },
    {
      "cell_type": "code",
      "metadata": {
        "id": "k8eMjKuefjGU",
        "colab_type": "code",
        "colab": {}
      },
      "source": [
        ""
      ],
      "execution_count": 0,
      "outputs": []
    },
    {
      "cell_type": "code",
      "metadata": {
        "id": "TV8ha9irp94A",
        "colab_type": "code",
        "colab": {}
      },
      "source": [
        "import bert\n",
        "import os\n",
        "\n",
        "\n",
        "\n",
        "bertDir = os.path.join(modelBertDir, \"multi_cased_L-12_H-768_A-12\")\n",
        "\n",
        "bert_params = bert.params_from_pretrained_ckpt(bertDir)\n",
        "\n",
        "bert_layer = bert.BertModelLayer.from_params(bert_params, name=\"bert\")\n",
        "\n",
        "bert_layer.apply_adapter_freeze()\n",
        "\n",
        "\n",
        "modelsFolder = os.path.join(modelBertDir, \"multi_cased_L-12_H-768_A-12\")\n",
        "checkpointName = os.path.join(modelsFolder, \"bert_model.ckpt\")\n",
        "\n"
      ],
      "execution_count": 0,
      "outputs": []
    },
    {
      "cell_type": "code",
      "metadata": {
        "id": "E_7PwYDui7xB",
        "colab_type": "code",
        "colab": {}
      },
      "source": [
        "bert_layer = bert.BertModelLayer.from_params(bert_params, name=\"bert\")"
      ],
      "execution_count": 0,
      "outputs": []
    },
    {
      "cell_type": "code",
      "metadata": {
        "id": "ra6m60_EmaO2",
        "colab_type": "code",
        "colab": {}
      },
      "source": [
        "import tensorflow as tf\n",
        "\n",
        "\n",
        "model = tf.keras.Sequential([\n",
        "    tf.keras.layers.Input(shape=(max_seq_length,), dtype='int32', name='input_ids'),\n",
        "    bert_layer,\n",
        "    tf.keras.layers.Flatten(),\n",
        "    tf.keras.layers.Dense(256, activation=tf.nn.relu),\n",
        "    tf.keras.layers.Dropout(0.5),\n",
        "    tf.keras.layers.Dense(256, activation=tf.nn.relu),\n",
        "    tf.keras.layers.Dropout(0.5),\n",
        "    tf.keras.layers.Dense(classes, activation=tf.nn.softmax)\n",
        "])\n",
        "\n",
        "model.build(input_shape=(None, max_seq_length))\n",
        "\n",
        "model.compile(loss='categorical_crossentropy', optimizer=tf.compat.v2.optimizers.Adam(lr=0.00001), metrics=['accuracy'])\n",
        "\n",
        "print(model.summary())"
      ],
      "execution_count": 0,
      "outputs": []
    },
    {
      "cell_type": "code",
      "metadata": {
        "id": "KmTF4ARvhdTf",
        "colab_type": "code",
        "colab": {}
      },
      "source": [
        "bert.load_stock_weights(bert_layer, checkpointName)"
      ],
      "execution_count": 0,
      "outputs": []
    },
    {
      "cell_type": "code",
      "metadata": {
        "id": "P3X4KP0kqBsf",
        "colab_type": "code",
        "colab": {}
      },
      "source": [
        "def fitModel(training_set, training_label, testing_set, testing_label):\n",
        "    checkpointName = os.path.join('/content', \"bert_faq.ckpt\")\n",
        "\n",
        "    # Create a callback that saves the model's weights\n",
        "    cp_callback = tf.keras.callbacks.ModelCheckpoint(filepath=checkpointName,\n",
        "                                                     save_weights_only=True,\n",
        "                                                     verbose=1)\n",
        "\n",
        "    # callback = StopTrainingClassComplete()\n",
        "\n",
        "    history = model.fit(\n",
        "        [training_set],\n",
        "        training_label,\n",
        "        epochs=300,\n",
        "        validation_data=([testing_set], testing_label),\n",
        "        verbose=1,\n",
        "        callbacks=[cp_callback]\n",
        "    )"
      ],
      "execution_count": 0,
      "outputs": []
    },
    {
      "cell_type": "code",
      "metadata": {
        "id": "Ppfv-4iUe4TJ",
        "colab_type": "code",
        "colab": {}
      },
      "source": [
        "fitModel(train_set, train_labels, test_set, test_labels)"
      ],
      "execution_count": 0,
      "outputs": []
    },
    {
      "cell_type": "code",
      "metadata": {
        "id": "FTBWPNYr7E_-",
        "colab_type": "code",
        "colab": {}
      },
      "source": [
        "tss = train_set[0][0]"
      ],
      "execution_count": 0,
      "outputs": []
    },
    {
      "cell_type": "code",
      "metadata": {
        "id": "Yl82q9aE7IOO",
        "colab_type": "code",
        "outputId": "b050061d-2fbb-4e8e-d2a2-f708375afc24",
        "colab": {
          "base_uri": "https://localhost:8080/",
          "height": 34
        }
      },
      "source": [
        "tss"
      ],
      "execution_count": 0,
      "outputs": [
        {
          "output_type": "execute_result",
          "data": {
            "text/plain": [
              "101"
            ]
          },
          "metadata": {
            "tags": []
          },
          "execution_count": 44
        }
      ]
    },
    {
      "cell_type": "code",
      "metadata": {
        "id": "sSlCKWG27IMu",
        "colab_type": "code",
        "colab": {}
      },
      "source": [
        "np.reshape(train_sett,(-1,))"
      ],
      "execution_count": 0,
      "outputs": []
    },
    {
      "cell_type": "code",
      "metadata": {
        "id": "FP9NtVIr6-fa",
        "colab_type": "code",
        "outputId": "2f90ffcd-8f1f-4eab-d3b8-189e32a211bc",
        "colab": {
          "base_uri": "https://localhost:8080/",
          "height": 34
        }
      },
      "source": [
        "train_set.shape"
      ],
      "execution_count": 0,
      "outputs": [
        {
          "output_type": "execute_result",
          "data": {
            "text/plain": [
              "(143999,)"
            ]
          },
          "metadata": {
            "tags": []
          },
          "execution_count": 30
        }
      ]
    },
    {
      "cell_type": "code",
      "metadata": {
        "id": "kyf1X7si7Fp1",
        "colab_type": "code",
        "colab": {}
      },
      "source": [
        "143999"
      ],
      "execution_count": 0,
      "outputs": []
    },
    {
      "cell_type": "code",
      "metadata": {
        "id": "GK8TQBD8m9ue",
        "colab_type": "code",
        "colab": {}
      },
      "source": [
        "train_sett = train_set.reshape((143999,-1),order='C')\n"
      ],
      "execution_count": 0,
      "outputs": []
    },
    {
      "cell_type": "code",
      "metadata": {
        "id": "pnxU6hChnCkO",
        "colab_type": "code",
        "colab": {}
      },
      "source": [
        "train_sett = None\n",
        "train_sett = [i for i in train_set]\n",
        "  "
      ],
      "execution_count": 0,
      "outputs": []
    },
    {
      "cell_type": "code",
      "metadata": {
        "id": "Udyd48qrnYig",
        "colab_type": "code",
        "colab": {}
      },
      "source": [
        "train_sett"
      ],
      "execution_count": 0,
      "outputs": []
    },
    {
      "cell_type": "code",
      "metadata": {
        "id": "Yu2LiqzY8Yzt",
        "colab_type": "code",
        "colab": {}
      },
      "source": [
        ""
      ],
      "execution_count": 0,
      "outputs": []
    },
    {
      "cell_type": "markdown",
      "metadata": {
        "id": "zyHm-2Jt0YAM",
        "colab_type": "text"
      },
      "source": [
        "# attention scratch"
      ]
    },
    {
      "cell_type": "code",
      "metadata": {
        "id": "xWEtIpgX1g2f",
        "colab_type": "code",
        "colab": {}
      },
      "source": [
        "https://towardsdatascience.com/learning-attention-mechanism-from-scratch-f08706aaf6b6"
      ],
      "execution_count": 0,
      "outputs": []
    },
    {
      "cell_type": "code",
      "metadata": {
        "id": "-R7RyVoy1qVW",
        "colab_type": "code",
        "colab": {}
      },
      "source": [
        "dec_hidden_state = [5,1,20]"
      ],
      "execution_count": 0,
      "outputs": []
    },
    {
      "cell_type": "code",
      "metadata": {
        "id": "tRJjLfg71sBO",
        "colab_type": "code",
        "colab": {}
      },
      "source": [
        "%matplotlib inline\n",
        "import numpy as np\n",
        "import matplotlib.pyplot as plt\n",
        "import seaborn as sns"
      ],
      "execution_count": 0,
      "outputs": []
    },
    {
      "cell_type": "code",
      "metadata": {
        "id": "aQDv_PI41tJ8",
        "colab_type": "code",
        "outputId": "8660d8c8-7b63-444e-f495-a3ac9061297e",
        "colab": {
          "base_uri": "https://localhost:8080/",
          "height": 314
        }
      },
      "source": [
        "plt.figure(figsize=(1.5, 4.5))\n",
        "sns.heatmap(np.transpose(np.matrix(dec_hidden_state)), annot=True, cmap=sns.light_palette(\"purple\", as_cmap=True), linewidths=1)"
      ],
      "execution_count": 0,
      "outputs": [
        {
          "output_type": "execute_result",
          "data": {
            "text/plain": [
              "<matplotlib.axes._subplots.AxesSubplot at 0x7f9aed6f9cf8>"
            ]
          },
          "metadata": {
            "tags": []
          },
          "execution_count": 7
        },
        {
          "output_type": "display_data",
          "data": {
            "image/png": "[encoded data removed]",
            "text/plain": [
              "<Figure size 108x324 with 2 Axes>"
            ]
          },
          "metadata": {
            "tags": []
          }
        }
      ]
    },
    {
      "cell_type": "code",
      "metadata": {
        "id": "E4yMF12m132d",
        "colab_type": "code",
        "colab": {}
      },
      "source": [
        "annotation = [3,12,45] #e.g. Encoder hidden state"
      ],
      "execution_count": 0,
      "outputs": []
    },
    {
      "cell_type": "code",
      "metadata": {
        "id": "RL7mTanR1-o3",
        "colab_type": "code",
        "outputId": "f0ed2183-e6e1-4be3-fda2-25057366189b",
        "colab": {
          "base_uri": "https://localhost:8080/",
          "height": 314
        }
      },
      "source": [
        "plt.figure(figsize=(1.5, 4.5))\n",
        "sns.heatmap(np.transpose(np.matrix(annotation)), annot=True, cmap=sns.light_palette(\"orange\", as_cmap=True), linewidths=1)"
      ],
      "execution_count": 0,
      "outputs": [
        {
          "output_type": "execute_result",
          "data": {
            "text/plain": [
              "<matplotlib.axes._subplots.AxesSubplot at 0x7f9ac73a7978>"
            ]
          },
          "metadata": {
            "tags": []
          },
          "execution_count": 10
        },
        {
          "output_type": "display_data",
          "data": {
            "image/png": "[encoded data removed]",
            "text/plain": [
              "<Figure size 108x324 with 2 Axes>"
            ]
          },
          "metadata": {
            "tags": []
          }
        }
      ]
    },
    {
      "cell_type": "code",
      "metadata": {
        "id": "EodrHvE42AcH",
        "colab_type": "code",
        "outputId": "03261693-0594-46ab-e761-2db2edfe4d0d",
        "colab": {
          "base_uri": "https://localhost:8080/",
          "height": 34
        }
      },
      "source": [
        "def single_dot_attention_score(dec_hidden_state, enc_hidden_state):\n",
        " #return the dot product of the two vectors\n",
        " return np.dot(dec_hidden_state, enc_hidden_state)\n",
        " \n",
        "single_dot_attention_score(dec_hidden_state, annotation)"
      ],
      "execution_count": 0,
      "outputs": [
        {
          "output_type": "execute_result",
          "data": {
            "text/plain": [
              "927"
            ]
          },
          "metadata": {
            "tags": []
          },
          "execution_count": 11
        }
      ]
    },
    {
      "cell_type": "code",
      "metadata": {
        "id": "fdE-Zw5u2F93",
        "colab_type": "code",
        "colab": {}
      },
      "source": [
        "annotations = np.transpose([[3,12,45], [59,2,5], [1,43,5], [4,3,45.3]])"
      ],
      "execution_count": 0,
      "outputs": []
    },
    {
      "cell_type": "code",
      "metadata": {
        "id": "V7UyO5t62Hmh",
        "colab_type": "code",
        "outputId": "0697717e-895b-4905-f4d2-4e12f4d9037d",
        "colab": {
          "base_uri": "https://localhost:8080/",
          "height": 265
        }
      },
      "source": [
        "ax = sns.heatmap(annotations, annot=True, cmap=sns.light_palette(\"orange\", as_cmap=True), linewidths=1)"
      ],
      "execution_count": 0,
      "outputs": [
        {
          "output_type": "display_data",
          "data": {
            "image/png": "[encoded data removed]",
            "text/plain": [
              "<Figure size 432x288 with 2 Axes>"
            ]
          },
          "metadata": {
            "tags": []
          }
        }
      ]
    },
    {
      "cell_type": "code",
      "metadata": {
        "id": "yVegwKmU2KwB",
        "colab_type": "code",
        "outputId": "4102ec3b-4adf-46cf-e644-a56aeabeaa74",
        "colab": {
          "base_uri": "https://localhost:8080/",
          "height": 34
        }
      },
      "source": [
        "def dot_attention_score(dec_hidden_state, annotations):\n",
        " # return the product of dec_hidden_state transpose and enc_hidden_states\n",
        " return np.matmul(np.transpose(dec_hidden_state), annotations)\n",
        " \n",
        "attention_weights_raw = dot_attention_score(dec_hidden_state, annotations)\n",
        "attention_weights_raw"
      ],
      "execution_count": 0,
      "outputs": [
        {
          "output_type": "execute_result",
          "data": {
            "text/plain": [
              "array([927., 397., 148., 929.])"
            ]
          },
          "metadata": {
            "tags": []
          },
          "execution_count": 15
        }
      ]
    },
    {
      "cell_type": "code",
      "metadata": {
        "id": "INc9DWsu2sfu",
        "colab_type": "code",
        "colab": {}
      },
      "source": [
        "e_x = np.exp(np.array(attention_weights_raw, dtype=np.float128))"
      ],
      "execution_count": 0,
      "outputs": []
    },
    {
      "cell_type": "code",
      "metadata": {
        "id": "RkbpsHsc2XIQ",
        "colab_type": "code",
        "outputId": "3638fcd1-ec7d-4cee-d63b-1769c45c9a23",
        "colab": {
          "base_uri": "https://localhost:8080/",
          "height": 51
        }
      },
      "source": [
        "def softmax(x):\n",
        " x = np.array(x, dtype=np.float128)\n",
        " e_x = np.exp(x)\n",
        " return e_x / e_x.sum(axis=0)\n",
        "attention_weights = softmax(attention_weights_raw)\n",
        "attention_weights"
      ],
      "execution_count": 0,
      "outputs": [
        {
          "output_type": "execute_result",
          "data": {
            "text/plain": [
              "array([1.19202922e-001, 7.94715151e-232, 5.76614420e-340, 8.80797078e-001],\n",
              "      dtype=float128)"
            ]
          },
          "metadata": {
            "tags": []
          },
          "execution_count": 17
        }
      ]
    },
    {
      "cell_type": "code",
      "metadata": {
        "id": "9GNUwmxq2juA",
        "colab_type": "code",
        "outputId": "6690ce71-8dc5-45d5-c64e-d9afd095abcc",
        "colab": {
          "base_uri": "https://localhost:8080/",
          "height": 119
        }
      },
      "source": [
        "def apply_attention_scores(attention_weights, annotations):\n",
        " # Multiple the annotations by their weights\n",
        " return attention_weights * annotations\n",
        "applied_attention = apply_attention_scores(attention_weights, annotations)\n",
        "applied_attention"
      ],
      "execution_count": 0,
      "outputs": [
        {
          "output_type": "execute_result",
          "data": {
            "text/plain": [
              "array([[3.57608766e-001, 4.68881939e-230, 5.76614420e-340,\n",
              "        3.52318831e+000],\n",
              "       [1.43043506e+000, 1.58943030e-231, 2.47944200e-338,\n",
              "        2.64239123e+000],\n",
              "       [5.36413149e+000, 3.97357575e-231, 2.88307210e-339,\n",
              "        3.99001076e+001]], dtype=float128)"
            ]
          },
          "metadata": {
            "tags": []
          },
          "execution_count": 24
        }
      ]
    },
    {
      "cell_type": "code",
      "metadata": {
        "id": "vTjjZ3og3YQ8",
        "colab_type": "code",
        "outputId": "ee3a5d3c-640f-4098-ac96-658ec8d35b3b",
        "colab": {
          "base_uri": "https://localhost:8080/",
          "height": 68
        }
      },
      "source": [
        "np.array(applied_attention,dtype=np.float16)"
      ],
      "execution_count": 0,
      "outputs": [
        {
          "output_type": "execute_result",
          "data": {
            "text/plain": [
              "array([[ 0.3577,  0.    ,  0.    ,  3.523 ],\n",
              "       [ 1.431 ,  0.    ,  0.    ,  2.643 ],\n",
              "       [ 5.363 ,  0.    ,  0.    , 39.9   ]], dtype=float16)"
            ]
          },
          "metadata": {
            "tags": []
          },
          "execution_count": 34
        }
      ]
    },
    {
      "cell_type": "code",
      "metadata": {
        "id": "qiMe8z9y26Ty",
        "colab_type": "code",
        "outputId": "8080ee70-64ac-4ebf-d7c3-907fcfbde0dd",
        "colab": {
          "base_uri": "https://localhost:8080/",
          "height": 265
        }
      },
      "source": [
        "# Let’s visualize our annotations after applying attention to them\n",
        "ax = sns.heatmap(applied_attention, annot=True, cmap=sns.light_palette(\"orange\", as_cmap=True), linewidths=1)"
      ],
      "execution_count": 0,
      "outputs": [
        {
          "output_type": "display_data",
          "data": {
            "image/png": "[encoded data removed]",
            "text/plain": [
              "<Figure size 432x288 with 2 Axes>"
            ]
          },
          "metadata": {
            "tags": []
          }
        }
      ]
    },
    {
      "cell_type": "code",
      "metadata": {
        "id": "2Y8QBFzy3P9A",
        "colab_type": "code",
        "outputId": "5265e1df-9580-4d8a-9a33-fae210c6da49",
        "colab": {
          "base_uri": "https://localhost:8080/",
          "height": 329
        }
      },
      "source": [
        "def calculate_attention_vector(applied_attention):\n",
        " return np.sum(applied_attention, axis=1)\n",
        "attention_vector = calculate_attention_vector(applied_attention)\n",
        "print(attention_vector)\n",
        "# Let’s visualize the attention context vector\n",
        "plt.figure(figsize=(1.5, 4.5))\n",
        "sns.heatmap(np.transpose(np.matrix(attention_vector)), annot=True, cmap=sns.light_palette(\"Blue\", as_cmap=True), linewidths=1)"
      ],
      "execution_count": 0,
      "outputs": [
        {
          "output_type": "stream",
          "text": [
            "[ 3.88079708  4.0728263  45.26423912]\n"
          ],
          "name": "stdout"
        },
        {
          "output_type": "execute_result",
          "data": {
            "text/plain": [
              "<matplotlib.axes._subplots.AxesSubplot at 0x7f9ac6ad62b0>"
            ]
          },
          "metadata": {
            "tags": []
          },
          "execution_count": 37
        },
        {
          "output_type": "display_data",
          "data": {
            "image/png": "[encoded data removed]",
            "text/plain": [
              "<Figure size 108x324 with 2 Axes>"
            ]
          },
          "metadata": {
            "tags": []
          }
        }
      ]
    },
    {
      "cell_type": "code",
      "metadata": {
        "id": "f5vo2FYfEsNW",
        "colab_type": "code",
        "colab": {}
      },
      "source": [
        ""
      ],
      "execution_count": 0,
      "outputs": []
    },
    {
      "cell_type": "markdown",
      "metadata": {
        "id": "SxMB4D7UK7Ca",
        "colab_type": "text"
      },
      "source": [
        "# q & a"
      ]
    },
    {
      "cell_type": "code",
      "metadata": {
        "id": "LwPWplBBK-E9",
        "colab_type": "code",
        "outputId": "77f37525-fe51-4e86-bf60-b4224cc596df",
        "colab": {
          "base_uri": "https://localhost:8080/",
          "height": 80
        }
      },
      "source": [
        "import re\n",
        "import tarfile\n",
        "import numpy as np\n",
        "from functools import reduce\n",
        "from keras.utils.data_utils import get_file\n",
        "from keras.preprocessing.sequence import pad_sequences"
      ],
      "execution_count": 0,
      "outputs": [
        {
          "output_type": "stream",
          "text": [
            "Using TensorFlow backend.\n"
          ],
          "name": "stderr"
        },
        {
          "output_type": "display_data",
          "data": {
            "text/html": [
              "<p style=\"color: red;\">\n",
              "The default version of TensorFlow in Colab will soon switch to TensorFlow 2.x.<br>\n",
              "We recommend you <a href=\"https://www.tensorflow.org/guide/migrate\" target=\"_blank\">upgrade</a> now \n",
              "or ensure your notebook will continue to use TensorFlow 1.x via the <code>%tensorflow_version 1.x</code> magic:\n",
              "<a href=\"https://colab.research.google.com/notebooks/tensorflow_version.ipynb\" target=\"_blank\">more info</a>.</p>\n"
            ],
            "text/plain": [
              "<IPython.core.display.HTML object>"
            ]
          },
          "metadata": {
            "tags": []
          }
        }
      ]
    },
    {
      "cell_type": "code",
      "metadata": {
        "id": "XuWKW9miLBY7",
        "colab_type": "code",
        "outputId": "ae1d4755-3c48-4f2e-fc9f-43b01e89506e",
        "colab": {
          "base_uri": "https://localhost:8080/",
          "height": 51
        }
      },
      "source": [
        "try:\n",
        "    #tar.gz data-set get saved on \"~/.keras/datasets/\" path\n",
        "    path = get_file('babi-tasks-v1-2.tar.gz', origin='https://s3.amazonaws.com/text-datasets/babi_tasks_1-20_v1-2.tar.gz')\n",
        "except:\n",
        "    print('Error downloading dataset, please download it manually:\\n'\n",
        "          '$ wget http://www.thespermwhale.com/jaseweston/babi/tasks_1-20_v1-2.tar.gz\\n'\n",
        "          '$ mv tasks_1-20_v1-2.tar.gz ~/.keras/datasets/babi-tasks-v1-2.tar.gz')\n",
        "    raise\n",
        " \n",
        "#reading a tar.gz file\n",
        "tar = tarfile.open(path)"
      ],
      "execution_count": 0,
      "outputs": [
        {
          "output_type": "stream",
          "text": [
            "Downloading data from https://s3.amazonaws.com/text-datasets/babi_tasks_1-20_v1-2.tar.gz\n",
            "11747328/11745123 [==============================] - 1s 0us/step\n"
          ],
          "name": "stdout"
        }
      ]
    },
    {
      "cell_type": "code",
      "metadata": {
        "id": "_F9e5p6sLDXq",
        "colab_type": "code",
        "colab": {}
      },
      "source": [
        "def tokenize(sent):\n",
        "    '''\n",
        "    argument: a sentence string\n",
        "    returns a list of tokens(words)\n",
        "    '''\n",
        "    return [ x.strip() for x in re.split('(\\W+)?', sent) if x.strip()]"
      ],
      "execution_count": 0,
      "outputs": []
    },
    {
      "cell_type": "code",
      "metadata": {
        "id": "N7r3uk7ILRCp",
        "colab_type": "code",
        "colab": {}
      },
      "source": [
        "def parse_stories(lines):\n",
        "    '''\n",
        "    - Parse stories provided in the bAbI tasks format\n",
        "    - A story starts from line 1 to line 15. Every 3rd line,\n",
        "      there is a question &amp;amp;amp;amp;amp; answer.\n",
        "    - Function extracts sub-stories within a story and\n",
        "      creates tuples\n",
        "    '''\n",
        "    data = []\n",
        "    story = []\n",
        "    for line in lines:\n",
        "        line = line.decode('utf-8').strip()\n",
        "        nid, line = line.split(' ', 1)\n",
        "        nid = int(nid)\n",
        "        if nid == 1:\n",
        "            # reset story when line ID=1 (start of new story)\n",
        "            story = []\n",
        "        if '\\t' in line:\n",
        "            # this line is tab separated Q, A &amp;amp;amp;amp;amp; support fact ID\n",
        "            q, a, supporting = line.split('\\t')\n",
        "            # tokenize the words of question\n",
        "            q = tokenize(q)\n",
        "            # Provide all the sub-stories till this question\n",
        "            substory = [x for x in story if x]\n",
        "            # A story ends and is appended to global story data-set\n",
        "            data.append((substory, q, a))\n",
        "            story.append('')\n",
        "        else:\n",
        "            # this line is a sentence of story\n",
        "            sent = tokenize(line)\n",
        "            story.append(sent)\n",
        "    return data"
      ],
      "execution_count": 0,
      "outputs": []
    },
    {
      "cell_type": "code",
      "metadata": {
        "id": "emDY88GCNoEv",
        "colab_type": "code",
        "colab": {}
      },
      "source": [
        "def get_stories(f):\n",
        "    '''\n",
        "    argument: filename\n",
        "    returns list of all stories in the argument data-set file\n",
        "    '''\n",
        "\n",
        "    # read the data file and parse 10k stories\n",
        "    data = parse_stories(f.readlines())\n",
        "    print(data[0])\n",
        "    # lambda func to flatten the list of sentences into one list\n",
        "    flatten = lambda data: reduce(lambda x, y: x + y, data)\n",
        "    # creating list of tuples for each story\n",
        "    data = [(flatten(story), q, answer) for story, q, answer in data]\n",
        "    return data"
      ],
      "execution_count": 0,
      "outputs": []
    },
    {
      "cell_type": "code",
      "metadata": {
        "id": "QWd0SbP4N6Je",
        "colab_type": "code",
        "outputId": "2611bb49-c613-41e5-d928-d2b6374be2e9",
        "colab": {
          "base_uri": "https://localhost:8080/",
          "height": 102
        }
      },
      "source": [
        "challenge = 'tasks_1-20_v1-2/en-10k/qa1_single-supporting-fact_{}.txt'\n",
        "print('Extracting stories for the challenge: single_supporting_fact_10k')\n",
        "# Extracting train stories\n",
        "train_stories = get_stories(tar.extractfile(challenge.format('train')))\n",
        "# Extracting test stories\n",
        "test_stories = get_stories(tar.extractfile(challenge.format('test')))"
      ],
      "execution_count": 0,
      "outputs": [
        {
          "output_type": "stream",
          "text": [
            "Extracting stories for the challenge: single_supporting_fact_10k\n"
          ],
          "name": "stdout"
        },
        {
          "output_type": "stream",
          "text": [
            "/usr/lib/python3.6/re.py:212: FutureWarning: split() requires a non-empty pattern match.\n",
            "  return _compile(pattern, flags).split(string, maxsplit)\n"
          ],
          "name": "stderr"
        },
        {
          "output_type": "stream",
          "text": [
            "([['Mary', 'moved', 'to', 'the', 'bathroom', '.'], ['John', 'went', 'to', 'the', 'hallway', '.']], ['Where', 'is', 'Mary', '?'], 'bathroom')\n",
            "([['John', 'travelled', 'to', 'the', 'hallway', '.'], ['Mary', 'journeyed', 'to', 'the', 'bathroom', '.']], ['Where', 'is', 'John', '?'], 'hallway')\n"
          ],
          "name": "stdout"
        }
      ]
    },
    {
      "cell_type": "code",
      "metadata": {
        "id": "X8J4dKHrOVra",
        "colab_type": "code",
        "outputId": "ced6aacd-57f8-4f8f-8ea8-dcb3381af3eb",
        "colab": {
          "base_uri": "https://localhost:8080/",
          "height": 289
        }
      },
      "source": [
        "print('Number of training stories:', len(train_stories))\n",
        "print('Number of test stories:', len(test_stories))\n",
        "train_stories[0]"
      ],
      "execution_count": 0,
      "outputs": [
        {
          "output_type": "stream",
          "text": [
            "Number of training stories: 10000\n",
            "Number of test stories: 1000\n"
          ],
          "name": "stdout"
        },
        {
          "output_type": "execute_result",
          "data": {
            "text/plain": [
              "(['Mary',\n",
              "  'moved',\n",
              "  'to',\n",
              "  'the',\n",
              "  'bathroom',\n",
              "  '.',\n",
              "  'John',\n",
              "  'went',\n",
              "  'to',\n",
              "  'the',\n",
              "  'hallway',\n",
              "  '.'],\n",
              " ['Where', 'is', 'Mary', '?'],\n",
              " 'bathroom')"
            ]
          },
          "metadata": {
            "tags": []
          },
          "execution_count": 13
        }
      ]
    },
    {
      "cell_type": "code",
      "metadata": {
        "id": "NaBsK8m-OpOI",
        "colab_type": "code",
        "colab": {}
      },
      "source": [
        "def vectorize_stories(data, word_idx, story_maxlen, query_maxlen):\n",
        "    # story vector initialization\n",
        "    X = []\n",
        "    # query vector initialization\n",
        "    Xq = []\n",
        "    # answer vector intialization\n",
        "    Y = []\n",
        "    for story, query, answer in data:\n",
        "        # creating list of story word indices\n",
        "        x = [word_idx[w] for w in story]\n",
        "        # creating list of query word indices\n",
        "        xq = [word_idx[w] for w in query]\n",
        "        # let's not forget that index 0 is reserved\n",
        "        y = np.zeros(len(word_idx) + 1)\n",
        "        # creating label 1 for the answer word index\n",
        "        y[word_idx[answer]] = 1\n",
        "        X.append(x)\n",
        "        Xq.append(xq)\n",
        "        Y.append(y)\n",
        "    return (pad_sequences(X, maxlen=story_maxlen),\n",
        "            pad_sequences(Xq, maxlen=query_maxlen), np.array(Y))"
      ],
      "execution_count": 0,
      "outputs": []
    },
    {
      "cell_type": "code",
      "metadata": {
        "id": "WGKpr9GAPADJ",
        "colab_type": "code",
        "colab": {}
      },
      "source": [
        "# creating vocabulary of words in train and test set\n",
        "vocab = set()\n",
        "for story, q, answer in train_stories + test_stories:\n",
        "    vocab |= set(story + q + [answer])\n",
        " \n",
        "# sorting the vocabulary\n",
        "vocab = sorted(vocab)\n",
        " \n",
        "# Reserve 0 for masking via pad_sequences\n",
        "vocab_size = len(vocab) + 1"
      ],
      "execution_count": 0,
      "outputs": []
    },
    {
      "cell_type": "code",
      "metadata": {
        "id": "GNmV8nE-O9-q",
        "colab_type": "code",
        "colab": {}
      },
      "source": [
        "\n",
        " \n",
        "# calculate maximum length of story\n",
        "story_maxlen = max(map(len, (x for x, _, _ in train_stories + test_stories)))\n",
        " \n",
        "# calculate maximum length of question/query\n",
        "query_maxlen = max(map(len, (x for _, x, _ in train_stories + test_stories)))\n",
        " \n",
        "# creating word to index dictionary\n",
        "word_idx = dict((c, i + 1) for i, c in enumerate(vocab))\n",
        " \n",
        "# creating index to word dictionary\n",
        "idx_word = dict((i+1, c) for i,c in enumerate(vocab))\n",
        " \n"
      ],
      "execution_count": 0,
      "outputs": []
    },
    {
      "cell_type": "code",
      "metadata": {
        "id": "l6ZPjPg0Qnig",
        "colab_type": "code",
        "colab": {}
      },
      "source": [
        "# vectorize train story, query and answer sentences/word using vocab\n",
        "inputs_train, queries_train, answers_train = vectorize_stories(train_stories,\n",
        "                                                               word_idx,\n",
        "                                                               story_maxlen,\n",
        "                                                               query_maxlen)\n",
        "# vectorize test story, query and answer sentences/word using vocab\n",
        "inputs_test, queries_test, answers_test = vectorize_stories(test_stories,\n",
        "                                                            word_idx,\n",
        "                                                            story_maxlen,\n",
        "                                                            query_maxlen)"
      ],
      "execution_count": 0,
      "outputs": []
    },
    {
      "cell_type": "code",
      "metadata": {
        "id": "p0ltneURSem9",
        "colab_type": "code",
        "outputId": "f922f935-450d-423b-8314-bb08fa525f89",
        "colab": {
          "base_uri": "https://localhost:8080/",
          "height": 207
        }
      },
      "source": [
        "print('-------------------------')\n",
        "print('Vocabulary:\\n',vocab,\"\\n\")\n",
        "print('Vocab size:', vocab_size, 'unique words')\n",
        "print('Story max length:', story_maxlen, 'words')\n",
        "print('Query max length:', query_maxlen, 'words')\n",
        "print('Number of training stories:', len(train_stories))\n",
        "print('Number of test stories:', len(test_stories))\n",
        "print('-------------------------')"
      ],
      "execution_count": 0,
      "outputs": [
        {
          "output_type": "stream",
          "text": [
            "-------------------------\n",
            "Vocabulary:\n",
            " ['.', '?', 'Daniel', 'John', 'Mary', 'Sandra', 'Where', 'back', 'bathroom', 'bedroom', 'garden', 'hallway', 'is', 'journeyed', 'kitchen', 'moved', 'office', 'the', 'to', 'travelled', 'went'] \n",
            "\n",
            "Vocab size: 22 unique words\n",
            "Story max length: 68 words\n",
            "Query max length: 4 words\n",
            "Number of training stories: 10000\n",
            "Number of test stories: 1000\n",
            "-------------------------\n"
          ],
          "name": "stdout"
        }
      ]
    },
    {
      "cell_type": "code",
      "metadata": {
        "id": "NoLp_8SrSvFa",
        "colab_type": "code",
        "outputId": "956df8e5-ff07-4a4e-be47-5ca5e58cb43e",
        "colab": {
          "base_uri": "https://localhost:8080/",
          "height": 153
        }
      },
      "source": [
        "print('-------------------------')\n",
        "print('inputs: integer tensor of shape (samples, max_length)')\n",
        "print('inputs_train shape:', inputs_train.shape)\n",
        "print('inputs_test shape:', inputs_test.shape)\n",
        "print('input train sample', inputs_train[0,:])\n",
        "print('-------------------------')"
      ],
      "execution_count": 0,
      "outputs": [
        {
          "output_type": "stream",
          "text": [
            "-------------------------\n",
            "inputs: integer tensor of shape (samples, max_length)\n",
            "inputs_train shape: (10000, 68)\n",
            "inputs_test shape: (1000, 68)\n",
            "input train sample [ 0  0  0  0  0  0  0  0  0  0  0  0  0  0  0  0  0  0  0  0  0  0  0  0\n",
            "  0  0  0  0  0  0  0  0  0  0  0  0  0  0  0  0  0  0  0  0  0  0  0  0\n",
            "  0  0  0  0  0  0  0  0  5 16 19 18  9  1  4 21 19 18 12  1]\n",
            "-------------------------\n"
          ],
          "name": "stdout"
        }
      ]
    },
    {
      "cell_type": "code",
      "metadata": {
        "id": "bp668vafSyC8",
        "colab_type": "code",
        "colab": {}
      },
      "source": [
        "import IPython\n",
        "import matplotlib.pyplot as plt\n",
        "import pandas as pd\n",
        " \n",
        "import keras\n",
        "from keras.models import Sequential, Model\n",
        "from keras.layers.embeddings import Embedding\n",
        "from keras.layers import Permute, dot, add, concatenate\n",
        "from keras.layers import LSTM, Dense, Dropout, Input, Activation"
      ],
      "execution_count": 0,
      "outputs": []
    },
    {
      "cell_type": "code",
      "metadata": {
        "id": "qXxsT991UzPa",
        "colab_type": "code",
        "colab": {}
      },
      "source": [
        "# number of epochs to run\n",
        "train_epochs = 100\n",
        "# Training batch size\n",
        "batch_size = 32\n",
        "# Hidden embedding size\n",
        "embed_size = 50\n",
        "# number of nodes in LSTM layer\n",
        "lstm_size = 64\n",
        "# dropout rate\n",
        "dropout_rate = 0.30"
      ],
      "execution_count": 0,
      "outputs": []
    },
    {
      "cell_type": "code",
      "metadata": {
        "id": "BleBFyA4U6K9",
        "colab_type": "code",
        "outputId": "457ff768-ea22-4646-8978-da2df8630514",
        "colab": {
          "base_uri": "https://localhost:8080/",
          "height": 139
        }
      },
      "source": [
        "# placeholders\n",
        "input_sequence = Input((story_maxlen,))\n",
        "question = Input((query_maxlen,))\n",
        " \n",
        "print('Input sequence:', input_sequence)\n",
        "print('Question:', question)"
      ],
      "execution_count": 0,
      "outputs": [
        {
          "output_type": "stream",
          "text": [
            "WARNING:tensorflow:From /usr/local/lib/python3.6/dist-packages/keras/backend/tensorflow_backend.py:66: The name tf.get_default_graph is deprecated. Please use tf.compat.v1.get_default_graph instead.\n",
            "\n",
            "WARNING:tensorflow:From /usr/local/lib/python3.6/dist-packages/keras/backend/tensorflow_backend.py:541: The name tf.placeholder is deprecated. Please use tf.compat.v1.placeholder instead.\n",
            "\n",
            "Input sequence: Tensor(\"input_1:0\", shape=(?, 68), dtype=float32)\n",
            "Question: Tensor(\"input_2:0\", shape=(?, 4), dtype=float32)\n"
          ],
          "name": "stdout"
        }
      ]
    },
    {
      "cell_type": "code",
      "metadata": {
        "id": "KWzKmAcAU6FX",
        "colab_type": "code",
        "outputId": "18c839c5-e25e-4dd1-d218-c78b904b6f77",
        "colab": {
          "base_uri": "https://localhost:8080/",
          "height": 156
        }
      },
      "source": [
        "# encoders\n",
        "# embed the input sequence into a sequence of vectors\n",
        "input_encoder_m = Sequential()\n",
        "input_encoder_m.add(Embedding(input_dim=vocab_size,\n",
        "                              output_dim=embed_size))\n",
        "input_encoder_m.add(Dropout(dropout_rate))\n",
        "# output: (samples, story_maxlen, embedding_dim)\n",
        " \n",
        "# embed the input into a sequence of vectors of size query_maxlen\n",
        "input_encoder_c = Sequential()\n",
        "input_encoder_c.add(Embedding(input_dim=vocab_size,\n",
        "                              output_dim=query_maxlen))\n",
        "input_encoder_c.add(Dropout(dropout_rate))\n",
        "# output: (samples, story_maxlen, query_maxlen)"
      ],
      "execution_count": 0,
      "outputs": [
        {
          "output_type": "stream",
          "text": [
            "WARNING:tensorflow:From /usr/local/lib/python3.6/dist-packages/keras/backend/tensorflow_backend.py:4432: The name tf.random_uniform is deprecated. Please use tf.random.uniform instead.\n",
            "\n",
            "WARNING:tensorflow:From /usr/local/lib/python3.6/dist-packages/keras/backend/tensorflow_backend.py:148: The name tf.placeholder_with_default is deprecated. Please use tf.compat.v1.placeholder_with_default instead.\n",
            "\n",
            "WARNING:tensorflow:From /usr/local/lib/python3.6/dist-packages/keras/backend/tensorflow_backend.py:3733: calling dropout (from tensorflow.python.ops.nn_ops) with keep_prob is deprecated and will be removed in a future version.\n",
            "Instructions for updating:\n",
            "Please use `rate` instead of `keep_prob`. Rate should be set to `rate = 1 - keep_prob`.\n"
          ],
          "name": "stdout"
        }
      ]
    },
    {
      "cell_type": "code",
      "metadata": {
        "id": "o-SyoWSWVDw-",
        "colab_type": "code",
        "colab": {}
      },
      "source": [
        "# embed the question into a sequence of vectors\n",
        "question_encoder = Sequential()\n",
        "question_encoder.add(Embedding(input_dim=vocab_size,\n",
        "                               output_dim=embed_size,\n",
        "                               input_length=query_maxlen))\n",
        "question_encoder.add(Dropout(dropout_rate))\n",
        "# output: (samples, query_maxlen, embedding_dim)"
      ],
      "execution_count": 0,
      "outputs": []
    },
    {
      "cell_type": "code",
      "metadata": {
        "id": "bLy39lqlVRbN",
        "colab_type": "code",
        "outputId": "72e6139d-3f66-4613-b324-d874009e3e99",
        "colab": {
          "base_uri": "https://localhost:8080/",
          "height": 68
        }
      },
      "source": [
        " # encode input sequence and questions (which are indices)\n",
        "# to sequences of dense vectors\n",
        "input_encoded_m = input_encoder_m(input_sequence)\n",
        "print('Input encoded m', input_encoded_m)\n",
        "input_encoded_c = input_encoder_c(input_sequence)\n",
        "print('Input encoded c', input_encoded_c)\n",
        "question_encoded = question_encoder(question)\n",
        "print('Question encoded', question_encoded)"
      ],
      "execution_count": 0,
      "outputs": [
        {
          "output_type": "stream",
          "text": [
            "Input encoded m Tensor(\"sequential_1/dropout_1/cond/Merge:0\", shape=(?, 68, 50), dtype=float32)\n",
            "Input encoded c Tensor(\"sequential_2/dropout_2/cond/Merge:0\", shape=(?, 68, 4), dtype=float32)\n",
            "Question encoded Tensor(\"sequential_3/dropout_3/cond/Merge:0\", shape=(?, 4, 50), dtype=float32)\n"
          ],
          "name": "stdout"
        }
      ]
    },
    {
      "cell_type": "code",
      "metadata": {
        "id": "UaZMn-EWVWU3",
        "colab_type": "code",
        "outputId": "9e1f3d55-831b-4fb1-c53d-6eb46f366e66",
        "colab": {
          "base_uri": "https://localhost:8080/",
          "height": 51
        }
      },
      "source": [
        "# compute a 'match' between the first input vector sequence\n",
        "# and the question vector sequence\n",
        "# shape: `(samples, story_maxlen, query_maxlen)\n",
        "match = dot([input_encoded_m, question_encoded], axes=-1, normalize=False)\n",
        "print(match.shape)\n",
        "match = Activation('softmax')(match)\n",
        "print('Match shape', match)"
      ],
      "execution_count": 0,
      "outputs": [
        {
          "output_type": "stream",
          "text": [
            "(?, 68, 4)\n",
            "Match shape Tensor(\"activation_1/truediv:0\", shape=(?, 68, 4), dtype=float32)\n"
          ],
          "name": "stdout"
        }
      ]
    },
    {
      "cell_type": "code",
      "metadata": {
        "id": "1dXCIUCyU15J",
        "colab_type": "code",
        "outputId": "0c6196b8-fe4e-444f-a597-3d3fc4677e45",
        "colab": {
          "base_uri": "https://localhost:8080/",
          "height": 51
        }
      },
      "source": [
        "# add the match matrix with the second input vector sequence\n",
        "response = add([match, input_encoded_c])  # (samples, story_maxlen, query_maxlen)\n",
        "response = Permute((2, 1))(response)  # (samples, query_maxlen, story_maxlen)\n",
        "print('Response shape', response)\n",
        " \n",
        "# concatenate the response vector with the question vector sequence\n",
        "answer = concatenate([response, question_encoded])\n",
        "print('Answer shape', answer)\n",
        " \n",
        "answer = LSTM(lstm_size)(answer)  # Generate tensors of shape 32\n",
        "answer = Dropout(dropout_rate)(answer)\n",
        "answer = Dense(vocab_size)(answer)  # (samples, vocab_size)\n",
        "# we output a probability distribution over the vocabulary\n",
        "answer = Activation('softmax')(answer)"
      ],
      "execution_count": 0,
      "outputs": [
        {
          "output_type": "stream",
          "text": [
            "Response shape Tensor(\"permute_1/transpose:0\", shape=(?, 4, 68), dtype=float32)\n",
            "Answer shape Tensor(\"concatenate_1/concat:0\", shape=(?, 4, 118), dtype=float32)\n"
          ],
          "name": "stdout"
        }
      ]
    },
    {
      "cell_type": "code",
      "metadata": {
        "id": "U5_yae_qWHGY",
        "colab_type": "code",
        "colab": {}
      },
      "source": [
        "class TrainingVisualizer(keras.callbacks.History):\n",
        "    def on_epoch_end(self, epoch, logs={}):\n",
        "        super().on_epoch_end(epoch, logs)\n",
        "        IPython.display.clear_output(wait=True)\n",
        "        pd.DataFrame({key: value for key, value in self.history.items() if key.endswith('loss')}).plot()\n",
        "        axes = pd.DataFrame({key: value for key, value in self.history.items() if key.endswith('acc')}).plot()\n",
        "        axes.set_ylim([0, 1])\n",
        "        plt.show()"
      ],
      "execution_count": 0,
      "outputs": []
    },
    {
      "cell_type": "code",
      "metadata": {
        "id": "IO12SiE3VeVr",
        "colab_type": "code",
        "outputId": "d6caac10-e89a-4915-fc17-e483f126c513",
        "colab": {
          "base_uri": "https://localhost:8080/",
          "height": 517
        }
      },
      "source": [
        "# build the final model\n",
        "model = Model([input_sequence, question], answer)\n",
        "model.compile(optimizer='rmsprop', loss='categorical_crossentropy',\n",
        "              metrics=['accuracy'])\n",
        " \n",
        "print(model.summary())\n",
        " \n",
        "# start training the model\n",
        "model.fit([inputs_train, queries_train],\n",
        "         answers_train, batch_size, train_epochs,\n",
        "         callbacks=[TrainingVisualizer()],\n",
        "         validation_data=([inputs_test, queries_test], answers_test))\n",
        " \n",
        "# save model\n",
        "model.save('model.h5')"
      ],
      "execution_count": 0,
      "outputs": [
        {
          "output_type": "display_data",
          "data": {
            "image/png": "[encoded data removed]",
            "text/plain": [
              "<Figure size 432x288 with 1 Axes>"
            ]
          },
          "metadata": {
            "tags": []
          }
        },
        {
          "output_type": "display_data",
          "data": {
            "image/png": "[encoded data removed]",
            "text/plain": [
              "<Figure size 432x288 with 1 Axes>"
            ]
          },
          "metadata": {
            "tags": []
          }
        }
      ]
    },
    {
      "cell_type": "code",
      "metadata": {
        "id": "LvGRiJTIV-07",
        "colab_type": "code",
        "outputId": "8325ff1d-9443-4952-d0ab-8050c3278211",
        "colab": {
          "base_uri": "https://localhost:8080/",
          "height": 377
        }
      },
      "source": [
        "for i in range(50,60):\n",
        "    current_inp = test_stories[i]\n",
        "    current_story, current_query, current_answer = vectorize_stories([current_inp], word_idx, story_maxlen, query_maxlen)\n",
        "    current_prediction = model.predict([current_story, current_query])\n",
        "    current_prediction = idx_word[np.argmax(current_prediction)]\n",
        "    print(' '.join(current_inp[0]), ' '.join(current_inp[1]), '| Prediction:', current_prediction, '| Ground Truth:', current_inp[2])\n",
        "    print(\"--------------------------------------------------------------\")"
      ],
      "execution_count": 0,
      "outputs": [
        {
          "output_type": "stream",
          "text": [
            "John journeyed to the hallway . John journeyed to the bedroom . Where is John ? | Prediction: bedroom | Ground Truth: bedroom\n",
            "--------------------------------------------------------------\n",
            "John journeyed to the hallway . John journeyed to the bedroom . Daniel journeyed to the bedroom . John journeyed to the office . Where is John ? | Prediction: office | Ground Truth: office\n",
            "--------------------------------------------------------------\n",
            "John journeyed to the hallway . John journeyed to the bedroom . Daniel journeyed to the bedroom . John journeyed to the office . John moved to the garden . Daniel moved to the garden . Where is John ? | Prediction: garden | Ground Truth: garden\n",
            "--------------------------------------------------------------\n",
            "John journeyed to the hallway . John journeyed to the bedroom . Daniel journeyed to the bedroom . John journeyed to the office . John moved to the garden . Daniel moved to the garden . Daniel went back to the kitchen . Mary journeyed to the hallway . Where is John ? | Prediction: garden | Ground Truth: garden\n",
            "--------------------------------------------------------------\n",
            "John journeyed to the hallway . John journeyed to the bedroom . Daniel journeyed to the bedroom . John journeyed to the office . John moved to the garden . Daniel moved to the garden . Daniel went back to the kitchen . Mary journeyed to the hallway . John moved to the office . Mary journeyed to the kitchen . Where is Daniel ? | Prediction: kitchen | Ground Truth: kitchen\n",
            "--------------------------------------------------------------\n",
            "Mary went to the bedroom . Daniel journeyed to the bathroom . Where is Mary ? | Prediction: bedroom | Ground Truth: bedroom\n",
            "--------------------------------------------------------------\n",
            "Mary went to the bedroom . Daniel journeyed to the bathroom . Mary travelled to the kitchen . Daniel moved to the garden . Where is Mary ? | Prediction: kitchen | Ground Truth: kitchen\n",
            "--------------------------------------------------------------\n",
            "Mary went to the bedroom . Daniel journeyed to the bathroom . Mary travelled to the kitchen . Daniel moved to the garden . Sandra travelled to the bedroom . Mary journeyed to the hallway . Where is Mary ? | Prediction: hallway | Ground Truth: hallway\n",
            "--------------------------------------------------------------\n",
            "Mary went to the bedroom . Daniel journeyed to the bathroom . Mary travelled to the kitchen . Daniel moved to the garden . Sandra travelled to the bedroom . Mary journeyed to the hallway . Sandra went back to the office . Sandra went to the kitchen . Where is Daniel ? | Prediction: bedroom | Ground Truth: garden\n",
            "--------------------------------------------------------------\n",
            "Mary went to the bedroom . Daniel journeyed to the bathroom . Mary travelled to the kitchen . Daniel moved to the garden . Sandra travelled to the bedroom . Mary journeyed to the hallway . Sandra went back to the office . Sandra went to the kitchen . Sandra went to the hallway . John moved to the office . Where is Sandra ? | Prediction: hallway | Ground Truth: hallway\n",
            "--------------------------------------------------------------\n"
          ],
          "name": "stdout"
        }
      ]
    },
    {
      "cell_type": "code",
      "metadata": {
        "id": "J9cyRY6-X1EF",
        "colab_type": "code",
        "colab": {}
      },
      "source": [
        ""
      ],
      "execution_count": 0,
      "outputs": []
    },
    {
      "cell_type": "markdown",
      "metadata": {
        "id": "ItBmf1esYNI2",
        "colab_type": "text"
      },
      "source": [
        "#  VAE"
      ]
    },
    {
      "cell_type": "code",
      "metadata": {
        "id": "PyA7aQ37uRuX",
        "colab_type": "code",
        "outputId": "c7c5d1bb-975a-4e78-b224-8d4cbbd07159",
        "colab": {
          "base_uri": "https://localhost:8080/",
          "height": 80
        }
      },
      "source": [
        "import keras\n",
        "from keras import layers\n",
        "from keras import backend as K\n",
        "from keras.models import Model\n",
        "import numpy as np"
      ],
      "execution_count": 0,
      "outputs": [
        {
          "output_type": "stream",
          "text": [
            "Using TensorFlow backend.\n"
          ],
          "name": "stderr"
        },
        {
          "output_type": "display_data",
          "data": {
            "text/html": [
              "<p style=\"color: red;\">\n",
              "The default version of TensorFlow in Colab will soon switch to TensorFlow 2.x.<br>\n",
              "We recommend you <a href=\"https://www.tensorflow.org/guide/migrate\" target=\"_blank\">upgrade</a> now \n",
              "or ensure your notebook will continue to use TensorFlow 1.x via the <code>%tensorflow_version 1.x</code> magic:\n",
              "<a href=\"https://colab.research.google.com/notebooks/tensorflow_version.ipynb\" target=\"_blank\">more info</a>.</p>\n"
            ],
            "text/plain": [
              "<IPython.core.display.HTML object>"
            ]
          },
          "metadata": {
            "tags": []
          }
        }
      ]
    },
    {
      "cell_type": "code",
      "metadata": {
        "id": "zCOTvfMvXXwd",
        "colab_type": "code",
        "colab": {}
      },
      "source": [
        "img_shape = (28, 28, 1)\n",
        "batch_size = 16\n",
        "latent_dim = 2"
      ],
      "execution_count": 0,
      "outputs": []
    },
    {
      "cell_type": "code",
      "metadata": {
        "id": "Kj7O4MvWXcQK",
        "colab_type": "code",
        "outputId": "c3421c42-e6c8-4494-f548-fa9a80daed5e",
        "colab": {
          "base_uri": "https://localhost:8080/",
          "height": 139
        }
      },
      "source": [
        "input_img = keras.Input(shape=img_shape)\n",
        "x = layers.Conv2D(32, 3,padding='same', activation='relu')(input_img)\n",
        "x = layers.Conv2D(64, 3,padding='same', activation='relu',strides=(2, 2))(x)\n",
        "x = layers.Conv2D(64, 3,padding='same', activation='relu')(x)\n",
        "x = layers.Conv2D(64, 3,padding='same', activation='relu')(x)\n",
        "shape_before_flattening = K.int_shape(x)\n",
        "x = layers.Flatten()(x)\n",
        "x = layers.Dense(32, activation='relu')(x)\n",
        "z_mean = layers.Dense(latent_dim)(x)\n",
        "z_log_var = layers.Dense(latent_dim)(x)"
      ],
      "execution_count": 0,
      "outputs": [
        {
          "output_type": "stream",
          "text": [
            "WARNING:tensorflow:From /usr/local/lib/python3.6/dist-packages/keras/backend/tensorflow_backend.py:66: The name tf.get_default_graph is deprecated. Please use tf.compat.v1.get_default_graph instead.\n",
            "\n",
            "WARNING:tensorflow:From /usr/local/lib/python3.6/dist-packages/keras/backend/tensorflow_backend.py:541: The name tf.placeholder is deprecated. Please use tf.compat.v1.placeholder instead.\n",
            "\n",
            "WARNING:tensorflow:From /usr/local/lib/python3.6/dist-packages/keras/backend/tensorflow_backend.py:4432: The name tf.random_uniform is deprecated. Please use tf.random.uniform instead.\n",
            "\n"
          ],
          "name": "stdout"
        }
      ]
    },
    {
      "cell_type": "code",
      "metadata": {
        "id": "oJ4_jquvXmpW",
        "colab_type": "code",
        "outputId": "24fb938a-49af-4de7-efb5-532ba3826f5e",
        "colab": {
          "base_uri": "https://localhost:8080/",
          "height": 71
        }
      },
      "source": [
        "def sampling(args):\n",
        "  z_mean, z_log_var = args\n",
        "  epsilon = K.random_normal(shape=(K.shape(z_mean)[0], latent_dim),mean=0., stddev=1.)\n",
        "  return z_mean + K.exp(z_log_var) * epsilon\n",
        "z = layers.Lambda(sampling)([z_mean, z_log_var])"
      ],
      "execution_count": 0,
      "outputs": [
        {
          "output_type": "stream",
          "text": [
            "WARNING:tensorflow:From /usr/local/lib/python3.6/dist-packages/keras/backend/tensorflow_backend.py:4409: The name tf.random_normal is deprecated. Please use tf.random.normal instead.\n",
            "\n"
          ],
          "name": "stdout"
        }
      ]
    },
    {
      "cell_type": "code",
      "metadata": {
        "id": "LUO-oBsCYXKr",
        "colab_type": "code",
        "colab": {}
      },
      "source": [
        "decoder_input = layers.Input(K.int_shape(z)[1:])\n",
        "x = layers.Dense(np.prod(shape_before_flattening[1:]),activation='relu')(decoder_input)\n",
        "x = layers.Reshape(shape_before_flattening[1:])(x)\n",
        "x = layers.Conv2DTranspose(32, 3,padding='same',activation='relu',strides=(2, 2))(x)\n",
        "x = layers.Conv2D(1, 3,padding='same',activation='sigmoid')(x)"
      ],
      "execution_count": 0,
      "outputs": []
    },
    {
      "cell_type": "code",
      "metadata": {
        "id": "2epaYBSLYuwS",
        "colab_type": "code",
        "colab": {}
      },
      "source": [
        "decoder = Model(decoder_input, x)\n",
        "z_decoded = decoder(z)"
      ],
      "execution_count": 0,
      "outputs": []
    },
    {
      "cell_type": "code",
      "metadata": {
        "id": "NBz6qeStY0aD",
        "colab_type": "code",
        "outputId": "54a00206-985f-4bf5-e4dd-15cd5d0bcee2",
        "colab": {
          "base_uri": "https://localhost:8080/",
          "height": 122
        }
      },
      "source": [
        "class CustomVariationalLayer(keras.layers.Layer):\n",
        "  def vae_loss(self, x, z_decoded):\n",
        "    x = K.flatten(x)\n",
        "    z_decoded = K.flatten(z_decoded)\n",
        "    xent_loss = keras.metrics.binary_crossentropy(x, z_decoded)\n",
        "    kl_loss = -5e-4 * K.mean(1 + z_log_var - K.square(z_mean) - K.exp(z_log_var), axis=-1)\n",
        "    return K.mean(xent_loss + kl_loss)\n",
        "  def call(self, inputs):\n",
        "    x = inputs[0]\n",
        "    z_decoded = inputs[1]\n",
        "    loss = self.vae_loss(x, z_decoded)\n",
        "    self.add_loss(loss, inputs=inputs)\n",
        "    return x\n",
        "y = CustomVariationalLayer()([input_img, z_decoded])"
      ],
      "execution_count": 0,
      "outputs": [
        {
          "output_type": "stream",
          "text": [
            "WARNING:tensorflow:From /usr/local/lib/python3.6/dist-packages/keras/backend/tensorflow_backend.py:3657: The name tf.log is deprecated. Please use tf.math.log instead.\n",
            "\n",
            "WARNING:tensorflow:From /usr/local/lib/python3.6/dist-packages/tensorflow_core/python/ops/nn_impl.py:183: where (from tensorflow.python.ops.array_ops) is deprecated and will be removed in a future version.\n",
            "Instructions for updating:\n",
            "Use tf.where in 2.0, which has the same broadcast rule as np.where\n"
          ],
          "name": "stdout"
        }
      ]
    },
    {
      "cell_type": "code",
      "metadata": {
        "id": "_wVZxo5nZWQ8",
        "colab_type": "code",
        "colab": {}
      },
      "source": [
        "from keras.datasets import mnist\n",
        "vae = Model(input_img, y)\n",
        "vae.compile(optimizer='rmsprop', loss=None)\n",
        "vae.summary()\n"
      ],
      "execution_count": 0,
      "outputs": []
    },
    {
      "cell_type": "code",
      "metadata": {
        "id": "bNKwQdKObGPL",
        "colab_type": "code",
        "colab": {}
      },
      "source": [
        "x_train[0]"
      ],
      "execution_count": 0,
      "outputs": []
    },
    {
      "cell_type": "code",
      "metadata": {
        "id": "AampWjtwkQ5W",
        "colab_type": "code",
        "colab": {}
      },
      "source": [
        "mkdir my_log_dir"
      ],
      "execution_count": 0,
      "outputs": []
    },
    {
      "cell_type": "code",
      "metadata": {
        "id": "6-gH1aGjZjGJ",
        "colab_type": "code",
        "colab": {}
      },
      "source": [
        "(x_train, _), (x_test, y_test) = mnist.load_data()\n",
        "x_train = x_train.astype('float32') / 255.\n",
        "x_train = x_train.reshape(x_train.shape + (1,))\n",
        "x_test = x_test.astype('float32') / 255.\n",
        "x_test = x_test.reshape(x_test.shape + (1,))\n",
        "callbacks = [\n",
        "keras.callbacks.TensorBoard(log_dir='my_log_dir')\n",
        "]\n",
        "vae.fit(x=x_train, y=None,\n",
        "  shuffle=True,\n",
        "  epochs=10,\n",
        "  batch_size=batch_size,\n",
        "  validation_data=(x_test, None),callbacks=callbacks)"
      ],
      "execution_count": 0,
      "outputs": []
    },
    {
      "cell_type": "code",
      "metadata": {
        "id": "6scxikw8nKKr",
        "colab_type": "code",
        "colab": {}
      },
      "source": [
        "import tensorflow as tf\n",
        "\n",
        "def make_image(tensor):\n",
        "    \"\"\"\n",
        "    Convert an numpy representation image to Image protobuf.\n",
        "    Copied from https://github.com/lanpa/tensorboard-pytorch/\n",
        "    \"\"\"\n",
        "    from PIL import Image\n",
        "    height, width= tensor.shape\n",
        "    channel = 3\n",
        "    tensor *= 255\n",
        "    image = Image.fromarray(tensor).convert('RGB')\n",
        "    import io\n",
        "    output = io.BytesIO()\n",
        "    image.save(output, format='PNG')\n",
        "    image_string = output.getvalue()\n",
        "    output.close()\n",
        "    return tf.Summary.Image(height=height,\n",
        "                         width=width,\n",
        "                         colorspace=channel,\n",
        "                         encoded_image_string=image_string)\n",
        "\n",
        "\n",
        "import matplotlib.pyplot as plt\n",
        "from scipy.stats import norm\n",
        "n = 15\n",
        "digit_size = 28\n",
        "figure = np.zeros((digit_size * n, digit_size * n))\n",
        "grid_x = norm.ppf(np.linspace(0.05, 0.95, n))\n",
        "grid_y = norm.ppf(np.linspace(0.05, 0.95, n))\n",
        "writer = tf.summary.FileWriter('./logs')\n",
        "for i, yi in enumerate(grid_x):\n",
        "  for j, xi in enumerate(grid_y):\n",
        "    z_sample = np.array([[xi, yi]])\n",
        "    z_sample = np.tile(z_sample, batch_size).reshape(batch_size, 2)\n",
        "    x_decoded = decoder.predict(z_sample, batch_size=batch_size)\n",
        "    digit = x_decoded[0].reshape(digit_size, digit_size)\n",
        "    image = make_image(digit)\n",
        "    summary = tf.Summary(value=[tf.Summary.Value(tag='Image Example', image=image)])\n",
        "    figure[i * digit_size: (i + 1) * digit_size,j * digit_size: (j + 1) * digit_size] = digit\n",
        "    writer.add_summary(summary, 10)\n",
        "writer.close()\n",
        "plt.figure(figsize=(10, 10))\n",
        "plt.imshow(figure, cmap='Greys_r')\n",
        "plt.show()    "
      ],
      "execution_count": 0,
      "outputs": []
    },
    {
      "cell_type": "code",
      "metadata": {
        "id": "C4vB0w8IkhSo",
        "colab_type": "code",
        "colab": {}
      },
      "source": [
        "%load_ext tensorboard"
      ],
      "execution_count": 0,
      "outputs": []
    },
    {
      "cell_type": "code",
      "metadata": {
        "id": "0RHckfjukhUM",
        "colab_type": "code",
        "colab": {}
      },
      "source": [
        "%tensorboard --logdir /content/logs"
      ],
      "execution_count": 0,
      "outputs": []
    },
    {
      "cell_type": "code",
      "metadata": {
        "id": "uZz1SjSskhKB",
        "colab_type": "code",
        "colab": {}
      },
      "source": [
        ""
      ],
      "execution_count": 0,
      "outputs": []
    },
    {
      "cell_type": "code",
      "metadata": {
        "id": "mVjZNervZrTG",
        "colab_type": "code",
        "outputId": "7eed6200-f41e-4476-e758-353cc3e8fb2b",
        "colab": {
          "base_uri": "https://localhost:8080/",
          "height": 595
        }
      },
      "source": [
        "import matplotlib.pyplot as plt\n",
        "from scipy.stats import norm\n",
        "n = 15\n",
        "digit_size = 28\n",
        "figure = np.zeros((digit_size * n, digit_size * n))\n",
        "grid_x = norm.ppf(np.linspace(0.05, 0.95, n))\n",
        "grid_y = norm.ppf(np.linspace(0.05, 0.95, n))\n",
        "for i, yi in enumerate(grid_x):\n",
        "  for j, xi in enumerate(grid_y):\n",
        "    z_sample = np.array([[xi, yi]])\n",
        "    z_sample = np.tile(z_sample, batch_size).reshape(batch_size, 2)\n",
        "    x_decoded = decoder.predict(z_sample, batch_size=batch_size)\n",
        "    digit = x_decoded[0].reshape(digit_size, digit_size)\n",
        "    figure[i * digit_size: (i + 1) * digit_size,j * digit_size: (j + 1) * digit_size] = digit\n",
        "plt.figure(figsize=(10, 10))\n",
        "plt.imshow(figure, cmap='Greys_r')\n",
        "plt.show()"
      ],
      "execution_count": 0,
      "outputs": [
        {
          "output_type": "display_data",
          "data": {
            "image/png": "[encoded data removed]",
            "text/plain": [
              "<Figure size 720x720 with 1 Axes>"
            ]
          },
          "metadata": {
            "tags": []
          }
        }
      ]
    },
    {
      "cell_type": "code",
      "metadata": {
        "id": "QrLuWE8aa7Jn",
        "colab_type": "code",
        "colab": {}
      },
      "source": [
        ""
      ],
      "execution_count": 0,
      "outputs": []
    },
    {
      "cell_type": "markdown",
      "metadata": {
        "id": "pMHFltxAb1e2",
        "colab_type": "text"
      },
      "source": [
        "# GAN"
      ]
    },
    {
      "cell_type": "code",
      "metadata": {
        "id": "IPt0jxFwb2fM",
        "colab_type": "code",
        "colab": {}
      },
      "source": [
        "import keras\n",
        "from keras import layers\n",
        "import numpy as np\n",
        "latent_dim = 32\n",
        "height = 32\n",
        "width = 32\n",
        "channels = 3"
      ],
      "execution_count": 0,
      "outputs": []
    },
    {
      "cell_type": "code",
      "metadata": {
        "id": "SYR0Pxcnb516",
        "colab_type": "code",
        "outputId": "e602c8ba-23e5-46f7-eb2d-21fe2030d3d4",
        "colab": {
          "base_uri": "https://localhost:8080/",
          "height": 595
        }
      },
      "source": [
        "generator_input = keras.Input(shape=(latent_dim,))\n",
        "x = layers.Dense(128 * 16 * 16)(generator_input)\n",
        "x = layers.LeakyReLU()(x)\n",
        "x = layers.Reshape((16, 16, 128))(x)\n",
        "x = layers.Conv2D(256, 5, padding='same')(x)\n",
        "x = layers.LeakyReLU()(x)\n",
        "x = layers.Conv2DTranspose(256, 4, strides=2, padding='same')(x)\n",
        "x = layers.LeakyReLU()(x)\n",
        "x = layers.Conv2D(256, 5, padding='same')(x)\n",
        "x = layers.LeakyReLU()(x)\n",
        "x = layers.Conv2D(256, 5, padding='same')(x)\n",
        "x = layers.LeakyReLU()(x)\n",
        "x = layers.Conv2D(channels, 7, activation='tanh', padding='same')(x)\n",
        "generator = keras.models.Model(generator_input, x)\n",
        "generator.summary()"
      ],
      "execution_count": 0,
      "outputs": [
        {
          "output_type": "stream",
          "text": [
            "Model: \"model_4\"\n",
            "_________________________________________________________________\n",
            "Layer (type)                 Output Shape              Param #   \n",
            "=================================================================\n",
            "input_3 (InputLayer)         (None, 32)                0         \n",
            "_________________________________________________________________\n",
            "dense_5 (Dense)              (None, 32768)             1081344   \n",
            "_________________________________________________________________\n",
            "leaky_re_lu_1 (LeakyReLU)    (None, 32768)             0         \n",
            "_________________________________________________________________\n",
            "reshape_2 (Reshape)          (None, 16, 16, 128)       0         \n",
            "_________________________________________________________________\n",
            "conv2d_6 (Conv2D)            (None, 16, 16, 256)       819456    \n",
            "_________________________________________________________________\n",
            "leaky_re_lu_2 (LeakyReLU)    (None, 16, 16, 256)       0         \n",
            "_________________________________________________________________\n",
            "conv2d_transpose_2 (Conv2DTr (None, 32, 32, 256)       1048832   \n",
            "_________________________________________________________________\n",
            "leaky_re_lu_3 (LeakyReLU)    (None, 32, 32, 256)       0         \n",
            "_________________________________________________________________\n",
            "conv2d_7 (Conv2D)            (None, 32, 32, 256)       1638656   \n",
            "_________________________________________________________________\n",
            "leaky_re_lu_4 (LeakyReLU)    (None, 32, 32, 256)       0         \n",
            "_________________________________________________________________\n",
            "conv2d_8 (Conv2D)            (None, 32, 32, 256)       1638656   \n",
            "_________________________________________________________________\n",
            "leaky_re_lu_5 (LeakyReLU)    (None, 32, 32, 256)       0         \n",
            "_________________________________________________________________\n",
            "conv2d_9 (Conv2D)            (None, 32, 32, 3)         37635     \n",
            "=================================================================\n",
            "Total params: 6,264,579\n",
            "Trainable params: 6,264,579\n",
            "Non-trainable params: 0\n",
            "_________________________________________________________________\n"
          ],
          "name": "stdout"
        }
      ]
    },
    {
      "cell_type": "code",
      "metadata": {
        "id": "5u834ywIb9D6",
        "colab_type": "code",
        "outputId": "8572dc50-b3db-49fc-f8c0-5eeaaca6e0ad",
        "colab": {
          "base_uri": "https://localhost:8080/",
          "height": 122
        }
      },
      "source": [
        "discriminator_input = layers.Input(shape=(height, width, channels))\n",
        "x = layers.Conv2D(128, 3)(discriminator_input)\n",
        "x = layers.LeakyReLU()(x)\n",
        "x = layers.Conv2D(128, 4, strides=2)(x)\n",
        "x = layers.LeakyReLU()(x)\n",
        "x = layers.Conv2D(128, 4, strides=2)(x)\n",
        "x = layers.LeakyReLU()(x)\n",
        "x = layers.Conv2D(128, 4, strides=2)(x)\n",
        "x = layers.LeakyReLU()(x)\n",
        "x = layers.Flatten()(x)\n",
        "x = layers.Dropout(0.4)(x)\n",
        "x = layers.Dense(1, activation='sigmoid')(x)"
      ],
      "execution_count": 0,
      "outputs": [
        {
          "output_type": "stream",
          "text": [
            "WARNING:tensorflow:From /usr/local/lib/python3.6/dist-packages/keras/backend/tensorflow_backend.py:148: The name tf.placeholder_with_default is deprecated. Please use tf.compat.v1.placeholder_with_default instead.\n",
            "\n",
            "WARNING:tensorflow:From /usr/local/lib/python3.6/dist-packages/keras/backend/tensorflow_backend.py:3733: calling dropout (from tensorflow.python.ops.nn_ops) with keep_prob is deprecated and will be removed in a future version.\n",
            "Instructions for updating:\n",
            "Please use `rate` instead of `keep_prob`. Rate should be set to `rate = 1 - keep_prob`.\n"
          ],
          "name": "stdout"
        }
      ]
    },
    {
      "cell_type": "code",
      "metadata": {
        "id": "sTOr3uU_cAKf",
        "colab_type": "code",
        "colab": {}
      },
      "source": [
        "discriminator = keras.models.Model(discriminator_input, x)\n",
        "discriminator.summary()\n",
        "discriminator_optimizer = keras.optimizers.RMSprop(\n",
        " lr=0.0008,\n",
        " clipvalue=1.0,\n",
        " decay=1e-8)\n",
        "discriminator.compile(optimizer=discriminator_optimizer,\n",
        "loss='binary_crossentropy')"
      ],
      "execution_count": 0,
      "outputs": []
    },
    {
      "cell_type": "code",
      "metadata": {
        "id": "OqtkzplycXhW",
        "colab_type": "code",
        "colab": {}
      },
      "source": [
        "discriminator.trainable = False\n",
        "gan_input = keras.Input(shape=(latent_dim,))\n",
        "gan_output = discriminator(generator(gan_input))\n",
        "gan = keras.models.Model(gan_input, gan_output)\n",
        "gan_optimizer = keras.optimizers.RMSprop(lr=0.0004, clipvalue=1.0, decay=1e-8)\n",
        "gan.compile(optimizer=gan_optimizer, loss='binary_crossentropy')"
      ],
      "execution_count": 0,
      "outputs": []
    },
    {
      "cell_type": "code",
      "metadata": {
        "id": "6XlvBSl7cZuG",
        "colab_type": "code",
        "colab": {}
      },
      "source": [
        "import os\n",
        "from keras.preprocessing import image\n",
        "(x_train, y_train), (_, _) = keras.datasets.cifar10.load_data()"
      ],
      "execution_count": 0,
      "outputs": []
    },
    {
      "cell_type": "code",
      "metadata": {
        "id": "diNHOMM-cgQ2",
        "colab_type": "code",
        "colab": {}
      },
      "source": [
        "x_train = x_train[y_train.flatten() == 6]\n",
        "x_train = x_train.reshape((x_train.shape[0],) +(height, width, channels)).astype('float32') / 255.\n",
        "iterations = 10000\n",
        "batch_size = 20\n",
        "save_dir = '/content/'\n",
        "start = 0\n",
        "for step in range(iterations):\n",
        "  random_latent_vectors = np.random.normal(size=(batch_size,latent_dim))\n",
        "  generated_images = generator.predict(random_latent_vectors)\n",
        "  stop = start + batch_size\n",
        "  real_images = x_train[start: stop]\n",
        "  combined_images = np.concatenate([generated_images, real_images])\n",
        "  labels = np.concatenate([np.ones((batch_size, 1)),np.zeros((batch_size, 1))])\n",
        "  labels += 0.05 * np.random.random(labels.shape)\n",
        "  d_loss = discriminator.train_on_batch(combined_images, labels)\n",
        "  random_latent_vectors = np.random.normal(size=(batch_size,latent_dim))\n",
        "  misleading_targets = np.zeros((batch_size, 1))\n",
        "  a_loss = gan.train_on_batch(random_latent_vectors,misleading_targets)\n",
        "  start += batch_size\n",
        "  if start > len(x_train) - batch_size:\n",
        "    start = 0\n",
        "  if step % 100 == 0:\n",
        "    gan.save_weights('gan.h5')\n",
        "    print('discriminator loss:', d_loss)\n",
        "    print('adversarial loss:', a_loss)\n",
        "    img = image.array_to_img(generated_images[0] * 255., scale=False)\n",
        "    img.save(os.path.join(save_dir,'generated_frog' + str(step) + '.png'))\n",
        "    img = image.array_to_img(real_images[0] * 255., scale=False)\n",
        "    img.save(os.path.join(save_dir,'real_frog' + str(step) + '.png'))"
      ],
      "execution_count": 0,
      "outputs": []
    },
    {
      "cell_type": "code",
      "metadata": {
        "id": "VzYxvWBSgfdl",
        "colab_type": "code",
        "colab": {}
      },
      "source": [
        "import os\n",
        "filelist=os.listdir()"
      ],
      "execution_count": 0,
      "outputs": []
    },
    {
      "cell_type": "code",
      "metadata": {
        "id": "CzE9haq0guhM",
        "colab_type": "code",
        "colab": {}
      },
      "source": [
        ""
      ],
      "execution_count": 0,
      "outputs": []
    },
    {
      "cell_type": "code",
      "metadata": {
        "id": "J2BrAUyrc2px",
        "colab_type": "code",
        "outputId": "142d1d70-5a07-4cfd-c258-2408e6fb05cb",
        "colab": {
          "base_uri": "https://localhost:8080/",
          "height": 446
        }
      },
      "source": [
        "import matplotlib.pyplot as plt\n",
        "import matplotlib.image as mpimg\n",
        "from IPython import display\n",
        "import time\n",
        "\n",
        "%matplotlib inline\n",
        "\n",
        "\n",
        "for fichier in filelist[:]: # filelist[:] makes a copy of filelist.\n",
        "    if (fichier.endswith(\".png\")):\n",
        "      p = fichier\n",
        "      #print p\n",
        "      image = mpimg.imread(p) # images are color images\n",
        "      plt.gca().clear()\n",
        "      plt.imshow(image);\n",
        "      display.display(plt.gcf())\n",
        "      display.clear_output(wait=True)\n",
        "      time.sleep(1.0) # wait one second"
      ],
      "execution_count": 0,
      "outputs": [
        {
          "output_type": "error",
          "ename": "KeyboardInterrupt",
          "evalue": "ignored",
          "traceback": [
            "\u001b[0;31m---------------------------------------------------------------------------\u001b[0m",
            "\u001b[0;31mKeyboardInterrupt\u001b[0m                         Traceback (most recent call last)",
            "\u001b[0;32m<ipython-input-64-7d249af7772a>\u001b[0m in \u001b[0;36m<module>\u001b[0;34m()\u001b[0m\n\u001b[1;32m     16\u001b[0m       \u001b[0mdisplay\u001b[0m\u001b[0;34m.\u001b[0m\u001b[0mdisplay\u001b[0m\u001b[0;34m(\u001b[0m\u001b[0mplt\u001b[0m\u001b[0;34m.\u001b[0m\u001b[0mgcf\u001b[0m\u001b[0;34m(\u001b[0m\u001b[0;34m)\u001b[0m\u001b[0;34m)\u001b[0m\u001b[0;34m\u001b[0m\u001b[0;34m\u001b[0m\u001b[0m\n\u001b[1;32m     17\u001b[0m       \u001b[0mdisplay\u001b[0m\u001b[0;34m.\u001b[0m\u001b[0mclear_output\u001b[0m\u001b[0;34m(\u001b[0m\u001b[0mwait\u001b[0m\u001b[0;34m=\u001b[0m\u001b[0;32mTrue\u001b[0m\u001b[0;34m)\u001b[0m\u001b[0;34m\u001b[0m\u001b[0;34m\u001b[0m\u001b[0m\n\u001b[0;32m---> 18\u001b[0;31m       \u001b[0mtime\u001b[0m\u001b[0;34m.\u001b[0m\u001b[0msleep\u001b[0m\u001b[0;34m(\u001b[0m\u001b[0;36m1.0\u001b[0m\u001b[0;34m)\u001b[0m \u001b[0;31m# wait one second\u001b[0m\u001b[0;34m\u001b[0m\u001b[0;34m\u001b[0m\u001b[0m\n\u001b[0m",
            "\u001b[0;31mKeyboardInterrupt\u001b[0m: "
          ]
        },
        {
          "output_type": "display_data",
          "data": {
            "image/png": "[encoded data removed]",
            "text/plain": [
              "<Figure size 432x288 with 1 Axes>"
            ]
          },
          "metadata": {
            "tags": []
          }
        }
      ]
    },
    {
      "cell_type": "code",
      "metadata": {
        "id": "jnMqpjDOg7Dv",
        "colab_type": "code",
        "colab": {}
      },
      "source": [
        ""
      ],
      "execution_count": 0,
      "outputs": []
    },
    {
      "cell_type": "markdown",
      "metadata": {
        "id": "Ej8kNbtKhJjU",
        "colab_type": "text"
      },
      "source": [
        "# another"
      ]
    },
    {
      "cell_type": "code",
      "metadata": {
        "id": "bB3qCorUhKlE",
        "colab_type": "code",
        "colab": {}
      },
      "source": [
        ""
      ],
      "execution_count": 0,
      "outputs": []
    }
  ]
}